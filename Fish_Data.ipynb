{
 "cells": [
  {
   "cell_type": "code",
   "execution_count": 2,
   "metadata": {},
   "outputs": [],
   "source": [
    "import pandas as pd\n",
    "import numpy as py"
   ]
  },
  {
   "cell_type": "code",
   "execution_count": 3,
   "metadata": {},
   "outputs": [],
   "source": [
    "path = \"Data/fish_name.xlsx\"\n",
    "fish_df = pd.read_excel(path)"
   ]
  },
  {
   "cell_type": "code",
   "execution_count": 4,
   "metadata": {},
   "outputs": [],
   "source": [
    "fish_df = fish_df[['3A_CODE','Scientific_name','English_name','Family']]"
   ]
  },
  {
   "cell_type": "code",
   "execution_count": 5,
   "metadata": {},
   "outputs": [],
   "source": [
    "fish_df.rename(columns = {'3A_CODE':'Species','Scientific_name':'scientific_name','English_name':'name','Family':'family'}, inplace=True)\n"
   ]
  },
  {
   "cell_type": "code",
   "execution_count": 6,
   "metadata": {
    "scrolled": true
   },
   "outputs": [
    {
     "data": {
      "text/html": [
       "<div>\n",
       "<style scoped>\n",
       "    .dataframe tbody tr th:only-of-type {\n",
       "        vertical-align: middle;\n",
       "    }\n",
       "\n",
       "    .dataframe tbody tr th {\n",
       "        vertical-align: top;\n",
       "    }\n",
       "\n",
       "    .dataframe thead th {\n",
       "        text-align: right;\n",
       "    }\n",
       "</style>\n",
       "<table border=\"1\" class=\"dataframe\">\n",
       "  <thead>\n",
       "    <tr style=\"text-align: right;\">\n",
       "      <th></th>\n",
       "      <th>Species</th>\n",
       "      <th>scientific_name</th>\n",
       "      <th>name</th>\n",
       "      <th>family</th>\n",
       "    </tr>\n",
       "  </thead>\n",
       "  <tbody>\n",
       "    <tr>\n",
       "      <th>0</th>\n",
       "      <td>LAU</td>\n",
       "      <td>Petromyzon marinus</td>\n",
       "      <td>Sea lamprey</td>\n",
       "      <td>Petromyzontidae</td>\n",
       "    </tr>\n",
       "    <tr>\n",
       "      <th>1</th>\n",
       "      <td>LAR</td>\n",
       "      <td>Lampetra fluviatilis</td>\n",
       "      <td>River lamprey</td>\n",
       "      <td>Petromyzontidae</td>\n",
       "    </tr>\n",
       "    <tr>\n",
       "      <th>2</th>\n",
       "      <td>IDK</td>\n",
       "      <td>Lampetra aepyptera</td>\n",
       "      <td>Least brook lamprey</td>\n",
       "      <td>Petromyzontidae</td>\n",
       "    </tr>\n",
       "    <tr>\n",
       "      <th>3</th>\n",
       "      <td>IDL</td>\n",
       "      <td>Lampetra ayresii</td>\n",
       "      <td>Western American river lamprey</td>\n",
       "      <td>Petromyzontidae</td>\n",
       "    </tr>\n",
       "    <tr>\n",
       "      <th>4</th>\n",
       "      <td>IDN</td>\n",
       "      <td>Lampetra planeri</td>\n",
       "      <td>European brook lamprey</td>\n",
       "      <td>Petromyzontidae</td>\n",
       "    </tr>\n",
       "  </tbody>\n",
       "</table>\n",
       "</div>"
      ],
      "text/plain": [
       "  Species       scientific_name                            name  \\\n",
       "0     LAU    Petromyzon marinus                     Sea lamprey   \n",
       "1     LAR  Lampetra fluviatilis                   River lamprey   \n",
       "2     IDK    Lampetra aepyptera             Least brook lamprey   \n",
       "3     IDL      Lampetra ayresii  Western American river lamprey   \n",
       "4     IDN      Lampetra planeri          European brook lamprey   \n",
       "\n",
       "            family  \n",
       "0  Petromyzontidae  \n",
       "1  Petromyzontidae  \n",
       "2  Petromyzontidae  \n",
       "3  Petromyzontidae  \n",
       "4  Petromyzontidae  "
      ]
     },
     "execution_count": 6,
     "metadata": {},
     "output_type": "execute_result"
    }
   ],
   "source": [
    "fish_df.head()"
   ]
  },
  {
   "cell_type": "code",
   "execution_count": 7,
   "metadata": {},
   "outputs": [],
   "source": [
    "fish_df.to_csv('fish_final.csv', index=False)"
   ]
  },
  {
   "cell_type": "code",
   "execution_count": null,
   "metadata": {},
   "outputs": [],
   "source": []
  },
  {
   "cell_type": "code",
   "execution_count": null,
   "metadata": {},
   "outputs": [],
   "source": []
  }
 ],
 "metadata": {
  "kernelspec": {
   "display_name": "Python 3",
   "language": "python",
   "name": "python3"
  },
  "language_info": {
   "codemirror_mode": {
    "name": "ipython",
    "version": 3
   },
   "file_extension": ".py",
   "mimetype": "text/x-python",
   "name": "python",
   "nbconvert_exporter": "python",
   "pygments_lexer": "ipython3",
   "version": "3.7.3"
  }
 },
 "nbformat": 4,
 "nbformat_minor": 2
}
